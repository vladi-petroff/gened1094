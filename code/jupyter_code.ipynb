{
 "cells": [
  {
   "cell_type": "code",
   "execution_count": 51,
   "id": "2c4ceeff-27d9-47ae-9c48-88967a2fbdf7",
   "metadata": {},
   "outputs": [],
   "source": [
    "import numpy as np\n",
    "from scipy import stats\n",
    "import pandas as pd\n",
    "import matplotlib.pyplot as plt\n",
    "import math\n",
    "import nltk\n",
    "import re"
   ]
  },
  {
   "cell_type": "code",
   "execution_count": 50,
   "id": "8a3b7e99-59ae-4fda-a06a-41b62f030f69",
   "metadata": {},
   "outputs": [],
   "source": [
    "# from nltk.stem import WordNetLemmatizer, PorterStemmer, SnowballStemmer\n",
    "# from nltk.corpus import stopwords\n",
    "# from nltk.tokenize import word_tokenize\n",
    "# import main.count_analysis\n",
    "\n",
    "# stop_words_file = 'data/stoplist_long.txt'\n",
    "# stop_words = []\n",
    "# with open(stop_words_file, \"r\") as f:\n",
    "#     for line in f:\n",
    "#         stop_words.extend(line.split()) \n",
    "\n",
    "\n",
    "# def preprocess(raw_text):\n",
    "#     #regular expression keeping only letters \n",
    "#     letters_only_text = re.sub(\"[^a-zA-Z]\", \" \", raw_text)\n",
    "\n",
    "#     # convert to lower case and split into words -> convert string into list ( 'hello world' -> ['hello', 'world'])\n",
    "#     words = letters_only_text.lower().split()\n",
    "\n",
    "#     cleaned_words = []\n",
    "#     lemmatizer = PorterStemmer() #plug in here any other stemmer or lemmatiser you want to try out\n",
    "    \n",
    "#     # remove stopwords\n",
    "#     for word in words:\n",
    "#         if word not in stop_words:\n",
    "#             cleaned_words.append(word)\n",
    "    \n",
    "#     # stemm or lemmatise words\n",
    "#     stemmed_words = []\n",
    "#     for word in cleaned_words:\n",
    "#         word = lemmatizer.stem(word)   #dont forget to change stem to lemmatize if you are using a lemmatizer\n",
    "#         stemmed_words.append(word)\n",
    "    \n",
    "#     # converting list back to string\n",
    "#     return \" \".join(stemmed_words)\n",
    "\n",
    "# test_sentence = \"this is a sentence to demonstrate how the preprocessing function works...!\"\n",
    "\n",
    "# preprocess(test_sentence)\n",
    "\n",
    "# from collections import Counter\n",
    "\n",
    "# def count_analysis(file_path, limit = 20):\n",
    "\n",
    "#     with open(file_path, 'r') as file:\n",
    "#         text = file.read().replace('\\n', '')\n",
    "    \n",
    "#     cleaned = preprocess(text)\n",
    "#     ans = [(word, val) for word, val in Counter(cleaned.split()).most_common(limit)]\n",
    "#     return ans"
   ]
  },
  {
   "cell_type": "code",
   "execution_count": 52,
   "id": "2e8fc618-5c2a-4de7-82b2-256972f8d1e5",
   "metadata": {},
   "outputs": [
    {
     "name": "stdout",
     "output_type": "stream",
     "text": [
      "[('peopl', 885), ('world', 497), ('heaven', 475), ('king', 443), ('state', 423), ('love', 394), ('master', 387), ('mo', 383), ('order', 371), ('offic', 362), ('benefit', 347), ('time', 343), ('like', 323), ('men', 291), ('yi', 290), ('wall', 282), ('comment', 278), ('great', 259), ('case', 254), ('ruler', 240)]\n",
      "[('master', 507), ('man', 224), ('tsze', 177), ('virtu', 103), ('ask', 102), ('ch', 97), ('superior', 95), ('men', 88), ('peopl', 82), ('yu', 76), ('kung', 74), ('confuciu', 70), ('lu', 65), ('govern', 61), ('learn', 59), ('thing', 58), ('repli', 55), ('princ', 54), ('proprieti', 52), ('offic', 52)]\n"
     ]
    }
   ],
   "source": [
    "mozi_dic = count_analysis('data/mozi_frmt.txt')\n",
    "print(mozi_dic)\n",
    "\n",
    "conf_dic = count_analysis('data/analects_frmt.txt')\n",
    "print(conf_dic)"
   ]
  },
  {
   "cell_type": "code",
   "execution_count": 26,
   "id": "6b47b232-2b0e-4648-a01e-8eefab8fef2d",
   "metadata": {},
   "outputs": [
    {
     "ename": "ModuleNotFoundError",
     "evalue": "No module named 'wordcloud'",
     "output_type": "error",
     "traceback": [
      "\u001b[0;31m---------------------------------------------------------------------------\u001b[0m",
      "\u001b[0;31mModuleNotFoundError\u001b[0m                       Traceback (most recent call last)",
      "Cell \u001b[0;32mIn[26], line 1\u001b[0m\n\u001b[0;32m----> 1\u001b[0m \u001b[38;5;28;01mfrom\u001b[39;00m \u001b[38;5;21;01mwordcloud\u001b[39;00m \u001b[38;5;28;01mimport\u001b[39;00m WordCloud\n\u001b[1;32m      3\u001b[0m \u001b[38;5;28;01mimport\u001b[39;00m \u001b[38;5;21;01mmatplotlib\u001b[39;00m\u001b[38;5;21;01m.\u001b[39;00m\u001b[38;5;21;01mpyplot\u001b[39;00m \u001b[38;5;28;01mas\u001b[39;00m \u001b[38;5;21;01mplt\u001b[39;00m\n\u001b[1;32m      4\u001b[0m \u001b[38;5;66;03m# if uising a Jupyter notebook, include:\u001b[39;00m\n",
      "\u001b[0;31mModuleNotFoundError\u001b[0m: No module named 'wordcloud'"
     ]
    }
   ],
   "source": [
    "from wordcloud import WordCloud\n",
    "\n",
    "import matplotlib.pyplot as plt\n",
    "# if uising a Jupyter notebook, include:\n",
    "%matplotlib inline\n",
    "\n",
    "all_words = '' \n",
    "\n",
    "wordcloud = WordCloud(width = 700, height = 700, \n",
    "                background_color ='white', \n",
    "                min_font_size = 10).generate(cleaned.split()) \n",
    "  \n",
    "# plot the WordCloud image                        \n",
    "plt.figure(figsize = (5, 5), facecolor = None) \n",
    "plt.imshow(wordcloud) \n",
    "plt.axis(\"off\") \n",
    "plt.tight_layout(pad = 0) \n",
    "  \n",
    "plt.show()"
   ]
  },
  {
   "cell_type": "code",
   "execution_count": null,
   "id": "37e7d7c8-a696-42aa-acb6-5da7019b9b2a",
   "metadata": {},
   "outputs": [],
   "source": []
  }
 ],
 "metadata": {
  "kernelspec": {
   "display_name": "Python 3 (ipykernel)",
   "language": "python",
   "name": "python3"
  },
  "language_info": {
   "codemirror_mode": {
    "name": "ipython",
    "version": 3
   },
   "file_extension": ".py",
   "mimetype": "text/x-python",
   "name": "python",
   "nbconvert_exporter": "python",
   "pygments_lexer": "ipython3",
   "version": "3.11.0"
  }
 },
 "nbformat": 4,
 "nbformat_minor": 5
}
